{
  "nbformat": 4,
  "nbformat_minor": 0,
  "metadata": {
    "colab": {
      "provenance": []
    },
    "kernelspec": {
      "name": "python3",
      "display_name": "Python 3"
    },
    "language_info": {
      "name": "python"
    }
  },
  "cells": [
    {
      "cell_type": "code",
      "execution_count": 1,
      "metadata": {
        "id": "zw1bO1P9elH1"
      },
      "outputs": [],
      "source": [
        "import pandas as pd"
      ]
    },
    {
      "cell_type": "code",
      "source": [
        "# Exemplo usando um arquivo CSV local\n",
        "df = pd.read_csv('titanic.csv')"
      ],
      "metadata": {
        "id": "XuELcfP0e87n"
      },
      "execution_count": 3,
      "outputs": []
    },
    {
      "cell_type": "code",
      "source": [
        "# Preenchendo valores ausentes na coluna 'Age' com a mediana\n",
        "df['Age'].fillna(df['Age'].median(), inplace=True)\n",
        "\n",
        "# Criando uma nova coluna 'Família_a_Bordo'\n",
        "df['N_familiares'] = df['SibSp'] + df['Parch']\n",
        "\n",
        "# Extraindo o título do nome\n",
        "df['Título'] = df['Name'].str.extract(' ([A-Za-z]+)\\.', expand=False)\n",
        "\n",
        "# Convertendo a coluna 'Sex' para valores numéricos\n",
        "df['Sex'] = df['Sex'].map({'female': 0, 'male': 1})\n",
        "\n",
        "# Removendo colunas desnecessárias\n",
        "df.drop(['PassengerId', 'Name', 'Ticket', 'Cabin', 'Embarked'], axis=1, inplace=True)\n",
        "\n",
        "# Verificando as primeiras linhas do DataFrame transformado\n",
        "print(df.head())\n"
      ],
      "metadata": {
        "id": "OzDHW4J9fRRp"
      },
      "execution_count": null,
      "outputs": []
    },
    {
      "cell_type": "code",
      "source": [
        "# Salvando o DataFrame em um novo arquivo CSV\n",
        "df.to_csv('dados_transformados.csv', index=False)"
      ],
      "metadata": {
        "id": "7vk5RBeziD7a"
      },
      "execution_count": 5,
      "outputs": []
    }
  ]
}
